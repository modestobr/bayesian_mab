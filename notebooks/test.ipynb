{
 "cells": [
  {
   "cell_type": "code",
   "execution_count": null,
   "metadata": {},
   "outputs": [],
   "source": [
    "!cd .. && python3 setup.py bdist_wheel"
   ]
  },
  {
   "cell_type": "code",
   "execution_count": null,
   "metadata": {},
   "outputs": [],
   "source": [
    "%pip install --force-reinstall /Users/iagobrandao/Desktop/bayesian_multi_armed_bandit/dist/bayesian_mab-0.1.0-py3-none-any.whl"
   ]
  },
  {
   "cell_type": "code",
   "execution_count": null,
   "metadata": {},
   "outputs": [],
   "source": [
    "!ls /Users/iagobrandao/.local/share/virtualenvs/1-utterance-augmentation-NRvjcAzG/lib/python3.11/site-packages/bayesian_mab"
   ]
  },
  {
   "cell_type": "code",
   "execution_count": null,
   "metadata": {},
   "outputs": [],
   "source": [
    "!pip list | grep mab"
   ]
  },
  {
   "cell_type": "code",
   "execution_count": null,
   "metadata": {},
   "outputs": [],
   "source": [
    "from bayesian_mab import BayesianMAB, BinaryReward, BayesianArm\n",
    "import numpy as np\n",
    "\n",
    "binary_reward = BinaryReward()\n",
    "\n",
    "bayesian_mab = BayesianMAB(\n",
    "    arms=[\n",
    "        BayesianArm(index=0, arm_name=\"Ad #1\"),\n",
    "        BayesianArm(index=1, arm_name=\"Ad #2\"),\n",
    "        BayesianArm(index=2, arm_name=\"Ad #3\"),\n",
    "    ]\n",
    ")\n",
    "\n",
    "for i in range(4):\n",
    "    binary_reward.update_reward(np.random.binomial(1, p=0.9))\n",
    "    bayesian_mab.update_arm(chosen_arm=1, reward_agent=binary_reward)\n",
    "\n",
    "for i in range(1500):\n",
    "    binary_reward.update_reward(np.random.binomial(1, p=0.3))\n",
    "    bayesian_mab.update_arm(chosen_arm=1, reward_agent=binary_reward)\n",
    "\n",
    "for i in range(1500):\n",
    "    binary_reward.update_reward(np.random.binomial(1, p=0.9))\n",
    "    bayesian_mab.update_arm(chosen_arm=2, reward_agent=binary_reward)\n",
    "\n",
    "flg_end, winner_arm = bayesian_mab.check_for_end(winner_prob_threshold=0.80)\n",
    "\n",
    "print(\"Is there a winner? {}. Winner: {}\".format(flg_end, winner_arm))"
   ]
  },
  {
   "cell_type": "code",
   "execution_count": null,
   "metadata": {},
   "outputs": [],
   "source": []
  }
 ],
 "metadata": {
  "kernelspec": {
   "display_name": "1-utterance-augmentation-NRvjcAzG",
   "language": "python",
   "name": "python3"
  },
  "language_info": {
   "codemirror_mode": {
    "name": "ipython",
    "version": 3
   },
   "file_extension": ".py",
   "mimetype": "text/x-python",
   "name": "python",
   "nbconvert_exporter": "python",
   "pygments_lexer": "ipython3",
   "version": "3.11.6"
  }
 },
 "nbformat": 4,
 "nbformat_minor": 2
}
